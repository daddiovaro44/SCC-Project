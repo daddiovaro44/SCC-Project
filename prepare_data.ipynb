{
 "cells": [
  {
   "cell_type": "markdown",
   "metadata": {},
   "source": [
    "# Data preparation for the learning phase"
   ]
  },
  {
   "cell_type": "markdown",
   "metadata": {},
   "source": [
    "Install of the library which contains all data"
   ]
  },
  {
   "cell_type": "code",
   "execution_count": null,
   "metadata": {},
   "outputs": [],
   "source": [
    "pip install fastf1"
   ]
  },
  {
   "cell_type": "code",
   "execution_count": null,
   "metadata": {},
   "outputs": [],
   "source": [
    "import fastf1"
   ]
  },
  {
   "cell_type": "markdown",
   "metadata": {},
   "source": [
    "Getting all data for most recent years with same compounds types"
   ]
  },
  {
   "cell_type": "code",
   "execution_count": null,
   "metadata": {},
   "outputs": [],
   "source": [
    "schedules = []\n",
    "for year in [2019, 2020, 2021, 2022, 2023]:\n",
    "    schedules.append(fastf1.get_event_schedule(year))"
   ]
  },
  {
   "cell_type": "markdown",
   "metadata": {},
   "source": [
    "## Examples of use\n",
    "Example of preparation phase on a single race"
   ]
  },
  {
   "cell_type": "code",
   "execution_count": null,
   "metadata": {},
   "outputs": [],
   "source": [
    "race = schedules[0].get_event_by_round(1).get_race()\n",
    "race.load()\n",
    "race.laps"
   ]
  },
  {
   "cell_type": "code",
   "execution_count": null,
   "metadata": {},
   "outputs": [],
   "source": [
    "race.laps.columns"
   ]
  },
  {
   "cell_type": "code",
   "execution_count": null,
   "metadata": {},
   "outputs": [],
   "source": [
    "race.laps.loc[:, [False, True, True, True, True, True,\n",
    "       False, False, False, False, False,\n",
    "       False, False, False,\n",
    "       False, False, False, False, False,\n",
    "       True, True, True, True, False,\n",
    "       False, False, False, False, False,\n",
    "       False, False]]"
   ]
  },
  {
   "cell_type": "code",
   "execution_count": null,
   "metadata": {},
   "outputs": [],
   "source": [
    "race.results.columns"
   ]
  },
  {
   "cell_type": "code",
   "execution_count": null,
   "metadata": {},
   "outputs": [],
   "source": [
    "race.results.loc[:, [True, False, True, False, True,\n",
    "       False, False, False, False, False,\n",
    "       False, False, True, False,\n",
    "       True, False, False, False, False, False, False]]"
   ]
  },
  {
   "cell_type": "code",
   "execution_count": null,
   "metadata": {},
   "outputs": [],
   "source": [
    "race.weather_data.columns"
   ]
  },
  {
   "cell_type": "code",
   "execution_count": null,
   "metadata": {},
   "outputs": [],
   "source": [
    "race.weather_data.loc[:, [False, True, True, True, True, True,\n",
    "       False, True]]"
   ]
  },
  {
   "cell_type": "markdown",
   "metadata": {},
   "source": [
    "## Extraction"
   ]
  },
  {
   "cell_type": "markdown",
   "metadata": {},
   "source": [
    "Preparing list of colums which have to be selected in the tables of interest:\n",
    "- Laps table: Driver, DriverNumber, LapTime, LapNumber, Stint, Compound, TyreLife, FreshTyre, Team\n",
    "- Results table: DriverNumber, Abbreviation, TeamName, Position, GridPosition\n",
    "- Weather Data table: AirTemp, Humidity, Pressure, Rainfall, TrackTemp, WindSpeed"
   ]
  },
  {
   "cell_type": "code",
   "execution_count": null,
   "metadata": {},
   "outputs": [],
   "source": [
    "laps_list = [False, True, True, True, True, True,\n",
    "       False, False, False, False, False,\n",
    "       False, False, False,\n",
    "       False, False, False, False, False,\n",
    "       True, True, True, True, False,\n",
    "       False, False, False, False, False,\n",
    "       False, False]\n",
    "\n",
    "results_list = [True, False, True, False, True,\n",
    "       False, False, False, False, False,\n",
    "       False, False, True, False,\n",
    "       True, False, False, False, False, False, False]\n",
    "\n",
    "weather_list = [False, True, True, True, True, True,\n",
    "       False, True]"
   ]
  },
  {
   "cell_type": "markdown",
   "metadata": {},
   "source": [
    "Loading of all the data and extracting only column of interest"
   ]
  },
  {
   "cell_type": "code",
   "execution_count": null,
   "metadata": {},
   "outputs": [],
   "source": [
    "peryear_races = []\n",
    "peryear_races_results = []\n",
    "peryear_races_laps = []\n",
    "peryear_races_weather = []\n",
    "\n",
    "i = 0\n",
    "for schedule in schedules:\n",
    "    peryear_races.append({})\n",
    "    peryear_races_results.append({})\n",
    "    peryear_races_laps.append({})\n",
    "    peryear_races_weather.append({})\n",
    "    \n",
    "    for round in range(1, len(schedule)-1):\n",
    "        peryear_races[i][round] = schedule.get_event_by_round(round).get_race()\n",
    "        peryear_races[i][round].load()\n",
    "        peryear_races_results[i][round] = peryear_races[i][round].results.loc[:, results_list]\n",
    "        peryear_races_laps[i][round] = peryear_races[i][round].laps.loc[:, laps_list]\n",
    "        peryear_races_weather[i][round] = peryear_races[i][round].weather_data.loc[:, weather_list]\n",
    "    \n",
    "    i+=1\n",
    "    "
   ]
  }
 ],
 "metadata": {
  "kernelspec": {
   "display_name": "base",
   "language": "python",
   "name": "python3"
  },
  "language_info": {
   "codemirror_mode": {
    "name": "ipython",
    "version": 3
   },
   "file_extension": ".py",
   "mimetype": "text/x-python",
   "name": "python",
   "nbconvert_exporter": "python",
   "pygments_lexer": "ipython3",
   "version": "3.11.5"
  }
 },
 "nbformat": 4,
 "nbformat_minor": 2
}
