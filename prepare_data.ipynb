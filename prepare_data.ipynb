{
 "cells": [
  {
   "cell_type": "markdown",
   "metadata": {},
   "source": [
    "# Data preparation for the learning phase"
   ]
  },
  {
   "cell_type": "markdown",
   "metadata": {},
   "source": [
    "Install of the library which contains all data"
   ]
  },
  {
   "cell_type": "code",
   "execution_count": null,
   "metadata": {},
   "outputs": [],
   "source": [
    "pip install fastf1"
   ]
  },
  {
   "cell_type": "code",
   "execution_count": 37,
   "metadata": {},
   "outputs": [],
   "source": [
    "import fastf1\n",
    "import pandas as pd\n",
    "import csv"
   ]
  },
  {
   "cell_type": "markdown",
   "metadata": {},
   "source": [
    "Getting all data from most recent years with same compounds tyres types, infact from 2019 avaiable compounds are SOFT, MEDIUM, HARD, INTERMEDIATE, WET"
   ]
  },
  {
   "cell_type": "code",
   "execution_count": null,
   "metadata": {},
   "outputs": [],
   "source": [
    "schedules = []\n",
    "for year in [2019, 2020, 2021, 2022, 2023]:\n",
    "    schedules.append(fastf1.get_event_schedule(year))"
   ]
  },
  {
   "cell_type": "markdown",
   "metadata": {},
   "source": [
    "## Extraction"
   ]
  },
  {
   "cell_type": "markdown",
   "metadata": {},
   "source": [
    "Preparing list of colums which have to be selected in the tables of interest:\n",
    "- Laps table: Driver, DriverNumber, LapNumber, Compound, TyreLife\n",
    "- Results table: DriverNumber, Position, GridPosition\n",
    "- Weather Data table: AirTemp, Humidity, Pressure, Rainfall, TrackTemp, WindSpeed"
   ]
  },
  {
   "cell_type": "code",
   "execution_count": null,
   "metadata": {},
   "outputs": [],
   "source": [
    "laps_list = [False, True, True, False, True, False,\n",
    "       False, False, False, False, False,\n",
    "       False, False, False,\n",
    "       False, False, False, False, False,\n",
    "       True, True, False, False, False,\n",
    "       False, False, False, False, False,\n",
    "       False, False]\n",
    "\n",
    "results_list = [True, False, False, False, False,\n",
    "       False, False, False, False, False,\n",
    "       False, False, True, False,\n",
    "       True, False, False, False, False, False, False]\n",
    "\n",
    "weather_list = [False, True, True, True, True, True,\n",
    "       False, True]"
   ]
  },
  {
   "cell_type": "markdown",
   "metadata": {},
   "source": [
    "Loading of all the data and extracting only column of interest.\n",
    "\n",
    "About race laps is extracted for each driver the first lap\n",
    "\n",
    "About weather conditions is selected only information about the first lap"
   ]
  },
  {
   "cell_type": "markdown",
   "metadata": {},
   "source": [
    "If the code generate an error it is normal because of reached maximum number of request per hour (200/h)"
   ]
  },
  {
   "cell_type": "code",
   "execution_count": null,
   "metadata": {},
   "outputs": [],
   "source": [
    "peryear_races = []\n",
    "peryear_races_results = []\n",
    "peryear_races_laps = []\n",
    "peryear_races_weather = []\n",
    "\n",
    "i = 0\n",
    "\n",
    "for schedule in schedules:\n",
    "    peryear_races.append({})\n",
    "    peryear_races_results.append({})\n",
    "    peryear_races_laps.append({})\n",
    "    peryear_races_weather.append({})\n",
    "    \n",
    "    for round in range(1, len(schedule)-1):\n",
    "        # loading data for each race per year\n",
    "        peryear_races[i][round] = schedule.get_event_by_round(round).get_race()\n",
    "        peryear_races[i][round].load()\n",
    "        \n",
    "        # extracting only columns of interests\n",
    "        peryear_races_results[i][round] = peryear_races[i][round].results.loc[:, results_list]\n",
    "\n",
    "        peryear_races_laps[i][round] = peryear_races[i][round].laps.loc[:, laps_list].pick_lap(1.0)\n",
    "\n",
    "        peryear_races_weather[i][round] = peryear_races[i][round].weather_data.loc[:, weather_list].head(1)\n",
    "\n",
    "        # Preparing values in order to be used to train the model:\n",
    "        # - if Rainfall is False (no rain) -> 0\n",
    "        # - if Rainfall is True (rain) -> 1\n",
    "        if peryear_races_weather[i][round]['Rainfall'].bool() == False:\n",
    "            peryear_races_weather[i][round]['Rainfall'] = 0\n",
    "        else: \n",
    "            peryear_races_weather[i][round]['Rainfall'] = 1\n",
    "    \n",
    "    i+=1\n",
    "    "
   ]
  },
  {
   "cell_type": "markdown",
   "metadata": {},
   "source": [
    "Merge results and first lap information and adding of round name and year for each race\n",
    "\n",
    "Adding for each race weather condition information about round name and year of attendance\n",
    "\n",
    "For both kind of information is created a directory called './data', where csv files are saved"
   ]
  },
  {
   "cell_type": "code",
   "execution_count": null,
   "metadata": {},
   "outputs": [],
   "source": [
    "merge_lapsresults = []\n",
    "base_year = 2019\n",
    "i = 0\n",
    "\n",
    "# Preparing columns of csv files will store races and weather information\n",
    "results_header= pd.DataFrame(columns=['Compound','TyreLife','Position','GridPosition','Round','Year'])\n",
    "results_header.to_csv('./data/results.csv')\n",
    "\n",
    "weather_header=pd.DataFrame(columns=['AirTemp', 'Humidity', 'Pressure', 'Rainfall', 'TrackTemp', 'WindSpeed', 'Round', 'Year'])\n",
    "weather_header.to_csv('./data/weather.csv')\n",
    "\n",
    "\n",
    "for schedule in schedules: \n",
    "    merge_lapsresults.append({})\n",
    "      \n",
    "    for round in range(1, len(schedule)-1):\n",
    "        year = base_year+i\n",
    "\n",
    "        # join of peryear_races_laps and peryear_races_results on 'DriverNumber' column\n",
    "        merge_lapsresults[i][round] = pd.merge(peryear_races_laps[i][round], peryear_races_results[i][round], on=[\"DriverNumber\"])\n",
    "        # adding round and year information\n",
    "        merge_lapsresults[i][round]['Round'] = round\n",
    "        merge_lapsresults[i][round]['Year'] = year\n",
    "\n",
    "        merge_lapsresults[i][round] = merge_lapsresults[i][round].loc[:, [False,False,False,True,True,False,True,True,True,True]]\n",
    "                            # Driver, DriverNumber, LapNumber, Compound, TyreLife, FreshTyre, Team, Position, GridPosition, Round, Year\n",
    "                            # Compound, TyreLife, Position, GridPosition, Round, Year\n",
    "\n",
    "        # Changing values saved for Compound from string to integer, in order to be ready to train the model:\n",
    "        # - SOFT -> 0\n",
    "        # - MEDIUM -> 1\n",
    "        # - HARD -> 2\n",
    "        # - INTERMEDIATE -> 3\n",
    "        # - WET -> 4\n",
    "        for driver in list(merge_lapsresults[i][round]['Compound'].index):\n",
    "            if merge_lapsresults[i][round]['Compound'][driver] == 'SOFT':\n",
    "                merge_lapsresults[i][round]['Compound'][driver] = 0\n",
    "            elif merge_lapsresults[i][round]['Compound'][driver] == 'MEDIUM':\n",
    "                merge_lapsresults[i][round]['Compound'][driver] = 1\n",
    "            elif merge_lapsresults[i][round]['Compound'][driver] == 'HARD':\n",
    "                merge_lapsresults[i][round]['Compound'][driver] = 2\n",
    "            elif merge_lapsresults[i][round]['Compound'][driver] == 'INTERMEDIATE':\n",
    "                merge_lapsresults[i][round]['Compound'][driver] = 3\n",
    "            elif merge_lapsresults[i][round]['Compound'][driver] == 'WET':\n",
    "                merge_lapsresults[i][round]['Compound'][driver] = 4\n",
    "\n",
    "        # adding round and year information to weather dataframe\n",
    "        peryear_races_weather[i][round]['Round'] = round\n",
    "        peryear_races_weather[i][round]['Year'] = year\n",
    "        \n",
    "        # Saving dataframes in csv files\n",
    "        merge_lapsresults[i][round].to_csv('./data/results.csv', mode='a', header=False)\n",
    "        peryear_races_weather[i][round].to_csv('./data/weather.csv', mode='a', header=False)\n",
    "\n",
    "    i+=1"
   ]
  },
  {
   "cell_type": "markdown",
   "metadata": {},
   "source": [
    "# Merge of the two tables"
   ]
  },
  {
   "cell_type": "markdown",
   "metadata": {},
   "source": [
    "Merge between drivers information and weather information, then saving on csv file"
   ]
  },
  {
   "cell_type": "code",
   "execution_count": null,
   "metadata": {},
   "outputs": [],
   "source": [
    "merge = []\n",
    "\n",
    "i = 0\n",
    "\n",
    "merge_header = pd.DataFrame(columns=['Compound', 'TyreLife', 'Position', 'GridPosition',\n",
    "       'Round', 'Year', 'AirTemp', 'Humidity', 'Pressure', 'Rainfall',\n",
    "       'TrackTemp', 'WindSpeed'])\n",
    "\n",
    "merge_header.to_csv('./data/merged_results.csv')\n",
    "\n",
    "for schedule in schedules:\n",
    "    merge.append({})\n",
    "\n",
    "    for round in range(1, len(schedule)-1):\n",
    "        merge[i][round] = pd.merge(merge_lapsresults[i][round], peryear_races_weather[i][round], on=['Round', 'Year'])\n",
    "        \n",
    "        merge[i][round].to_csv('./data/merged_results.csv', mode='a', header=False)\n",
    "        \n",
    "    i+=1"
   ]
  },
  {
   "cell_type": "markdown",
   "metadata": {},
   "source": [
    "# Races name, year and round number"
   ]
  },
  {
   "cell_type": "markdown",
   "metadata": {},
   "source": [
    "Creating a pandas dataframe to save the link between year, round number and name of the round. Then saved in a csv file"
   ]
  },
  {
   "cell_type": "code",
   "execution_count": 34,
   "metadata": {},
   "outputs": [],
   "source": [
    "gran_prix = {}\n",
    "base_year = 2019\n",
    "i = 0\n",
    "\n",
    "for schedule in schedules: \n",
    "    # gran_prix.append({})\n",
    "    year = base_year+i\n",
    "    gran_prix[year] = {}\n",
    "    for round in range(1, len(schedule)-1):\n",
    "        \n",
    "\n",
    "        round_name = str(peryear_races[i][round]).split(': ')[1].split(' - ')[0]\n",
    "\n",
    "        gran_prix[year][round] = round_name\n",
    "    \n",
    "    i+=1\n",
    "\n"
   ]
  },
  {
   "cell_type": "code",
   "execution_count": 64,
   "metadata": {},
   "outputs": [],
   "source": [
    "gran_prix_pd = pd.DataFrame(gran_prix)\n",
    "gran_prix_pd.to_csv('./data/gran_prix.csv')"
   ]
  }
 ],
 "metadata": {
  "kernelspec": {
   "display_name": "base",
   "language": "python",
   "name": "python3"
  },
  "language_info": {
   "codemirror_mode": {
    "name": "ipython",
    "version": 3
   },
   "file_extension": ".py",
   "mimetype": "text/x-python",
   "name": "python",
   "nbconvert_exporter": "python",
   "pygments_lexer": "ipython3",
   "version": "3.11.5"
  }
 },
 "nbformat": 4,
 "nbformat_minor": 2
}
